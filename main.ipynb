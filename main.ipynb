{
 "cells": [
  {
   "cell_type": "markdown",
   "id": "17a72024",
   "metadata": {},
   "source": [
    "# Projeto das Bandeiras\n",
    "\n",
    "Projeto do livro Pandas Python Data Wrangling Para Ciencia De Dados de Eduardo Corrêa"
   ]
  },
  {
   "cell_type": "code",
   "execution_count": 20,
   "id": "80c3de89-6e42-4591-9686-5f186ee83316",
   "metadata": {},
   "outputs": [
    {
     "name": "stdout",
     "output_type": "stream",
     "text": [
      "Collecting scikit-learn\n",
      "  Downloading scikit_learn-1.6.0-cp313-cp313-win_amd64.whl.metadata (15 kB)\n",
      "Requirement already satisfied: numpy>=1.19.5 in c:\\users\\marce\\appdata\\local\\programs\\python\\python313\\lib\\site-packages (from scikit-learn) (2.2.1)\n",
      "Collecting scipy>=1.6.0 (from scikit-learn)\n",
      "  Using cached scipy-1.14.1-cp313-cp313-win_amd64.whl.metadata (60 kB)\n",
      "Collecting joblib>=1.2.0 (from scikit-learn)\n",
      "  Using cached joblib-1.4.2-py3-none-any.whl.metadata (5.4 kB)\n",
      "Collecting threadpoolctl>=3.1.0 (from scikit-learn)\n",
      "  Using cached threadpoolctl-3.5.0-py3-none-any.whl.metadata (13 kB)\n",
      "Downloading scikit_learn-1.6.0-cp313-cp313-win_amd64.whl (11.1 MB)\n",
      "   ---------------------------------------- 0.0/11.1 MB ? eta -:--:--\n",
      "   -- ------------------------------------- 0.8/11.1 MB 10.1 MB/s eta 0:00:02\n",
      "   ------------- -------------------------- 3.7/11.1 MB 11.8 MB/s eta 0:00:01\n",
      "   ----------------------- ---------------- 6.6/11.1 MB 12.8 MB/s eta 0:00:01\n",
      "   --------------------------------- ------ 9.2/11.1 MB 12.8 MB/s eta 0:00:01\n",
      "   -------------------------------------- - 10.7/11.1 MB 11.8 MB/s eta 0:00:01\n",
      "   ---------------------------------------- 11.1/11.1 MB 10.9 MB/s eta 0:00:00\n",
      "Using cached joblib-1.4.2-py3-none-any.whl (301 kB)\n",
      "Using cached scipy-1.14.1-cp313-cp313-win_amd64.whl (44.5 MB)\n",
      "Using cached threadpoolctl-3.5.0-py3-none-any.whl (18 kB)\n",
      "Installing collected packages: threadpoolctl, scipy, joblib, scikit-learn\n",
      "Successfully installed joblib-1.4.2 scikit-learn-1.6.0 scipy-1.14.1 threadpoolctl-3.5.0\n"
     ]
    }
   ],
   "source": [
    "!pip install -U scikit-learn"
   ]
  },
  {
   "cell_type": "markdown",
   "id": "79dbdc3b",
   "metadata": {},
   "source": [
    "### Importando as bibliotecas"
   ]
  },
  {
   "cell_type": "code",
   "execution_count": 21,
   "id": "6cda11f7",
   "metadata": {},
   "outputs": [],
   "source": [
    "import pandas as pd\n",
    "import matplotlib.pyplot as plt\n",
    "from sklearn.neighbors import KNeighborsClassifier"
   ]
  },
  {
   "cell_type": "markdown",
   "id": "7f1bd64d",
   "metadata": {},
   "source": [
    "### Importando a base de dados"
   ]
  },
  {
   "cell_type": "code",
   "execution_count": 2,
   "id": "29fceffe",
   "metadata": {},
   "outputs": [],
   "source": [
    "flags = pd.read_csv('data/flags.csv')\n",
    "countries = pd.read_csv('data/countries.csv')"
   ]
  },
  {
   "cell_type": "markdown",
   "id": "bfb3a583",
   "metadata": {},
   "source": [
    "flags.head()"
   ]
  },
  {
   "cell_type": "markdown",
   "id": "58a6038e",
   "metadata": {},
   "source": [
    "### Verificando as cores"
   ]
  },
  {
   "cell_type": "code",
   "execution_count": 3,
   "id": "4a1b9844",
   "metadata": {},
   "outputs": [],
   "source": [
    "#separa as cores\n",
    "verde = flags['green']\n",
    "amarelo = flags['gold']\n",
    "azul = flags['blue']\n",
    "branco = flags['white']\n",
    "soma = verde + amarelo + azul + branco"
   ]
  },
  {
   "cell_type": "code",
   "execution_count": 4,
   "id": "ce95a248",
   "metadata": {},
   "outputs": [],
   "source": [
    "#gera vetor booleano com True para quem tem as 4 cores\n",
    "tem_todas = (soma == 4)"
   ]
  },
  {
   "cell_type": "code",
   "execution_count": 5,
   "id": "6f69b7c1",
   "metadata": {},
   "outputs": [
    {
     "name": "stdout",
     "output_type": "stream",
     "text": [
      "Países com todas as cores: \n",
      "17                       Belize\n",
      "19                      Bermuda\n",
      "23                       Brazil\n",
      "24         British-Virgin-Isles\n",
      "26                     Bulgaria\n",
      "33               Cayman-Islands\n",
      "34     Central-African-Republic\n",
      "48                     Dominica\n",
      "56           Falklands-Malvinas\n",
      "57                         Fiji\n",
      "71                         Guam\n",
      "78                    Hong-Kong\n",
      "116                  Montserrat\n",
      "135                     Parguay\n",
      "139                    Portugal\n",
      "142                     Romania\n",
      "151             Soloman-Islands\n",
      "158                   St-Helena\n",
      "161                  St-Vincent\n",
      "176         Turks-Cocos-Islands\n",
      "182             US-Virgin-Isles\n",
      "187                   Venezuela\n",
      "Name: name, dtype: object\n"
     ]
    }
   ],
   "source": [
    "print('Países com todas as cores: ')\n",
    "print(flags[tem_todas.values]['name'])"
   ]
  },
  {
   "cell_type": "markdown",
   "id": "64c37277-d348-491c-b5f1-9a50f701361c",
   "metadata": {},
   "source": [
    "### Obter as propriedades básicas de cada atributo"
   ]
  },
  {
   "cell_type": "code",
   "execution_count": 6,
   "id": "958f0bdb",
   "metadata": {},
   "outputs": [
    {
     "name": "stdout",
     "output_type": "stream",
     "text": [
      "(1) atributo: name \t dtype: object \t nulos:  False \n",
      " domínio (primeiros elementos): ['Afghanistan' 'Albania' 'Algeria' 'American-Samoa' 'Andorra' 'Angola'\n",
      " 'Anguilla' 'Antigua-Barbuda']\n",
      "(2) atributo: landmass \t dtype: int64 \t nulos:  False \n",
      " domínio: [5 3 4 6 1 2]\n",
      "(3) atributo: zone \t dtype: int64 \t nulos:  False \n",
      " domínio: [1 3 2 4]\n",
      "(4) atributo: area \t dtype: int64 \t nulos:  False \n",
      " min:  0 \t max:  22402 \t média:  700.05 \t d.p.:  2170.93\n",
      "(5) atributo: population \t dtype: int64 \t nulos:  False \n",
      " min:  0 \t max:  1008 \t média:  23.27 \t d.p.:  91.93\n",
      "(6) atributo: language \t dtype: int64 \t nulos:  False \n",
      " min:  1 \t max:  10 \t média:  5.34 \t d.p.:  3.5\n",
      "(7) atributo: religion \t dtype: int64 \t nulos:  False \n",
      " min:  0 \t max:  7 \t média:  2.19 \t d.p.:  2.06\n",
      "(8) atributo: bars \t dtype: int64 \t nulos:  False \n",
      " domínio: [0 2 3 1 5]\n",
      "(9) atributo: stripes \t dtype: int64 \t nulos:  False \n",
      " min:  0 \t max:  14 \t média:  1.55 \t d.p.:  2.33\n",
      "(10) atributo: colours \t dtype: int64 \t nulos:  False \n",
      " min:  1 \t max:  8 \t média:  3.46 \t d.p.:  1.3\n",
      "(11) atributo: red \t dtype: int64 \t nulos:  False \n",
      " domínio: [1 0]\n",
      "(12) atributo: green \t dtype: int64 \t nulos:  False \n",
      " domínio: [1 0]\n",
      "(13) atributo: blue \t dtype: int64 \t nulos:  False \n",
      " domínio: [0 1]\n",
      "(14) atributo: gold \t dtype: int64 \t nulos:  False \n",
      " domínio: [1 0]\n",
      "(15) atributo: white \t dtype: int64 \t nulos:  False \n",
      " domínio: [1 0]\n",
      "(16) atributo: black \t dtype: int64 \t nulos:  False \n",
      " domínio: [1 0]\n",
      "(17) atributo: orange \t dtype: int64 \t nulos:  False \n",
      " domínio: [0 1]\n",
      "(18) atributo: mainhue \t dtype: object \t nulos:  False \n",
      " domínio (primeiros elementos): ['green' 'red' 'blue' 'gold' 'white' 'orange' 'black' 'brown']\n",
      "(19) atributo: circles \t dtype: int64 \t nulos:  False \n",
      " domínio: [0 1 4 2]\n",
      "(20) atributo: crosses \t dtype: int64 \t nulos:  False \n",
      " domínio: [0 1 2]\n",
      "(21) atributo: saltires \t dtype: int64 \t nulos:  False \n",
      " domínio: [0 1]\n",
      "(22) atributo: quarters \t dtype: int64 \t nulos:  False \n",
      " domínio: [0 1 4]\n",
      "(23) atributo: sunstars \t dtype: int64 \t nulos:  False \n",
      " min:  0 \t max:  50 \t média:  1.39 \t d.p.:  4.4\n",
      "(24) atributo: crescent \t dtype: int64 \t nulos:  False \n",
      " domínio: [0 1]\n",
      "(25) atributo: triangle \t dtype: int64 \t nulos:  False \n",
      " domínio: [0 1]\n",
      "(26) atributo: icon \t dtype: int64 \t nulos:  False \n",
      " domínio: [1 0]\n",
      "(27) atributo: animate \t dtype: int64 \t nulos:  False \n",
      " domínio: [0 1]\n",
      "(28) atributo: text \t dtype: int64 \t nulos:  False \n",
      " domínio: [0 1]\n",
      "(29) atributo: topleft \t dtype: object \t nulos:  False \n",
      " domínio: ['black' 'red' 'green' 'blue' 'white' 'orange' 'gold']\n",
      "(30) atributo: botright \t dtype: object \t nulos:  False \n",
      " domínio (primeiros elementos): ['green' 'red' 'white' 'black' 'blue' 'gold' 'orange' 'brown']\n"
     ]
    }
   ],
   "source": [
    "i=0\n",
    "\n",
    "for c in flags.columns:\n",
    "    i +=1\n",
    "    att = flags[c] #atributo\n",
    "    att_dtype = att.dtype #dtype\n",
    "    att_tam_dominio = att.unique().size #tamanho do domínio\n",
    "    att_tem_nulo = any(att.isnull()) #possui valor nulo?\n",
    " \n",
    "    if (att_tam_dominio < 8):\n",
    "        print(\"(\"+str(i)+\") atributo:\", c, \"\\t\",\n",
    "            \"dtype:\", att_dtype, \"\\t\",\n",
    "            \"nulos: \", att_tem_nulo, \"\\n\",\n",
    "            \"domínio:\", att.unique())\n",
    "    else:\n",
    "        if (att_dtype=='object'):\n",
    "            print(\"(\"+str(i)+\") atributo:\", c, \"\\t\",\n",
    "                \"dtype:\", att_dtype, \"\\t\",\n",
    "                \"nulos: \", att_tem_nulo, \"\\n\",\n",
    "                \"domínio (primeiros elementos):\", att.unique()[0:8])\n",
    "        else:\n",
    "            print(\"(\"+str(i)+\") atributo:\", c, \"\\t\",\n",
    "                \"dtype:\", att_dtype, \"\\t\",\n",
    "                \"nulos: \", att_tem_nulo, \"\\n\",\n",
    "                \"min: \", att.min(), \"\\t\",\n",
    "                \"max: \", att.max(), \"\\t\",\n",
    "                \"média: \", round(att.mean(),2), \"\\t\",\n",
    "                \"d.p.: \", round(att.std(),2))"
   ]
  },
  {
   "cell_type": "markdown",
   "id": "b81a37a1-c60d-4f2b-b796-8317122b8d8c",
   "metadata": {},
   "source": [
    "### Gerar a tabela de frequências"
   ]
  },
  {
   "cell_type": "code",
   "execution_count": 7,
   "id": "3d972efb",
   "metadata": {},
   "outputs": [
    {
     "name": "stdout",
     "output_type": "stream",
     "text": [
      "     red  green  blue  gold  white  black  orange\n",
      "red                                              \n",
      "1    153     91    99    91    146     52      26\n",
      "0     41    103    95   103     48    142     168\n"
     ]
    }
   ],
   "source": [
    "df_cores = pd.DataFrame()\n",
    "\n",
    "for c in flags.columns:\n",
    "    if c in ['red','green','blue','gold','white','black','orange']:\n",
    "        df_cores[c]=flags[c].value_counts()\n",
    "\n",
    "print(df_cores)"
   ]
  },
  {
   "cell_type": "markdown",
   "id": "c4d87c90-e505-46bd-9c5c-0a73126ae565",
   "metadata": {},
   "source": [
    "### Gerar os gráficos de barras"
   ]
  },
  {
   "cell_type": "code",
   "execution_count": 8,
   "id": "f773ea7d-c1f8-48f8-a212-4279148aa85f",
   "metadata": {},
   "outputs": [
    {
     "data": {
      "text/html": [
       "<div>\n",
       "<style scoped>\n",
       "    .dataframe tbody tr th:only-of-type {\n",
       "        vertical-align: middle;\n",
       "    }\n",
       "\n",
       "    .dataframe tbody tr th {\n",
       "        vertical-align: top;\n",
       "    }\n",
       "\n",
       "    .dataframe thead th {\n",
       "        text-align: right;\n",
       "    }\n",
       "</style>\n",
       "<table border=\"1\" class=\"dataframe\">\n",
       "  <thead>\n",
       "    <tr style=\"text-align: right;\">\n",
       "      <th></th>\n",
       "      <th>red</th>\n",
       "      <th>green</th>\n",
       "      <th>blue</th>\n",
       "      <th>gold</th>\n",
       "      <th>white</th>\n",
       "      <th>black</th>\n",
       "      <th>orange</th>\n",
       "    </tr>\n",
       "    <tr>\n",
       "      <th>red</th>\n",
       "      <th></th>\n",
       "      <th></th>\n",
       "      <th></th>\n",
       "      <th></th>\n",
       "      <th></th>\n",
       "      <th></th>\n",
       "      <th></th>\n",
       "    </tr>\n",
       "  </thead>\n",
       "  <tbody>\n",
       "    <tr>\n",
       "      <th>1</th>\n",
       "      <td>153</td>\n",
       "      <td>91</td>\n",
       "      <td>99</td>\n",
       "      <td>91</td>\n",
       "      <td>146</td>\n",
       "      <td>52</td>\n",
       "      <td>26</td>\n",
       "    </tr>\n",
       "    <tr>\n",
       "      <th>0</th>\n",
       "      <td>41</td>\n",
       "      <td>103</td>\n",
       "      <td>95</td>\n",
       "      <td>103</td>\n",
       "      <td>48</td>\n",
       "      <td>142</td>\n",
       "      <td>168</td>\n",
       "    </tr>\n",
       "  </tbody>\n",
       "</table>\n",
       "</div>"
      ],
      "text/plain": [
       "     red  green  blue  gold  white  black  orange\n",
       "red                                              \n",
       "1    153     91    99    91    146     52      26\n",
       "0     41    103    95   103     48    142     168"
      ]
     },
     "execution_count": 8,
     "metadata": {},
     "output_type": "execute_result"
    }
   ],
   "source": [
    "df_cores"
   ]
  },
  {
   "cell_type": "code",
   "execution_count": 9,
   "id": "8d20fd4d",
   "metadata": {},
   "outputs": [
    {
     "data": {
      "text/plain": [
       "array([<Axes: title={'center': 'red'}, ylabel='red'>,\n",
       "       <Axes: title={'center': 'green'}, ylabel='red'>,\n",
       "       <Axes: title={'center': 'blue'}, ylabel='red'>,\n",
       "       <Axes: title={'center': 'gold'}, ylabel='red'>,\n",
       "       <Axes: title={'center': 'white'}, ylabel='red'>,\n",
       "       <Axes: title={'center': 'black'}, ylabel='red'>,\n",
       "       <Axes: title={'center': 'orange'}, ylabel='red'>], dtype=object)"
      ]
     },
     "execution_count": 9,
     "metadata": {},
     "output_type": "execute_result"
    },
    {
     "data": {
      "image/png": "[encoded data removed]",
      "text/plain": [
       "<Figure size 800x2500 with 7 Axes>"
      ]
     },
     "metadata": {},
     "output_type": "display_data"
    }
   ],
   "source": [
    "lst_cores = [['red','beige'],\n",
    "             ['green','beige'],\n",
    "             ['blue','beige'],\n",
    "             ['gold','beige'],\n",
    "             ['whitesmoke','beige'],\n",
    "             ['black','beige'],\n",
    "             ['orange','beige']]\n",
    "\n",
    "cores = [cor[0] for cor in lst_cores] \n",
    "df_cores.plot(kind='barh', subplots=True, figsize=(8,25), color=cores)"
   ]
  },
  {
   "cell_type": "markdown",
   "id": "3f0958ae-a604-4fe8-947f-7dfce9e2e2ed",
   "metadata": {},
   "source": [
    "### Combinando os datasets flags e countries\n"
   ]
  },
  {
   "cell_type": "code",
   "execution_count": 10,
   "id": "1e28712f",
   "metadata": {},
   "outputs": [],
   "source": [
    "num_linhas_flags = flags.shape[0]\n",
    "num_linhas_countries = countries.shape[0]"
   ]
  },
  {
   "cell_type": "markdown",
   "id": "14f27136-c09a-4de3-ae0b-15ea13d786e1",
   "metadata": {},
   "source": [
    "### Realiza a junção entre os DataFrames"
   ]
  },
  {
   "cell_type": "code",
   "execution_count": 11,
   "id": "49acab6d-21d5-4333-9192-5cad6a7b7f62",
   "metadata": {},
   "outputs": [],
   "source": [
    "# Junção Interna: países comuns a ambas as bases\n",
    "ambas = pd.merge(flags, countries,\n",
    " how=\"inner\",\n",
    " left_on=\"name\", right_on=\"country\")\n",
    "\n",
    "num_linhas_ambas = ambas.shape[0]"
   ]
  },
  {
   "cell_type": "code",
   "execution_count": 12,
   "id": "fbe07dbe",
   "metadata": {},
   "outputs": [],
   "source": [
    "# Left Join: países apenas em flags\n",
    "so_flags = pd.merge(flags, countries,\n",
    " how=\"left\",\n",
    " left_on=\"name\", right_on=\"country\")\n",
    "\n",
    "so_flags = so_flags[pd.isnull(so_flags['country'])==True]\n",
    "num_linhas_so_flags = so_flags.shape[0]"
   ]
  },
  {
   "cell_type": "code",
   "execution_count": 13,
   "id": "7d6ba8dc",
   "metadata": {},
   "outputs": [],
   "source": [
    "# Right Join: países apenas em countries\n",
    "so_countries = pd.merge(flags, countries,\n",
    " how=\"right\",\n",
    " left_on=\"name\", right_on=\"country\")\n",
    "\n",
    "so_countries = so_countries[pd.isnull(so_countries['name'])==True]\n",
    "num_linhas_so_countries = so_countries.shape[0]"
   ]
  },
  {
   "cell_type": "markdown",
   "id": "3ce98ab8-3138-4dcc-a6d0-d9dc96ec8665",
   "metadata": {},
   "source": [
    "### Imprimir os resultados"
   ]
  },
  {
   "cell_type": "code",
   "execution_count": 14,
   "id": "cc76ce37-87b4-460f-928d-64ae218df616",
   "metadata": {},
   "outputs": [
    {
     "name": "stdout",
     "output_type": "stream",
     "text": [
      "- Num países em \"flags\": 194\n",
      "- Num países em \"countries\": 227\n",
      "- Num países em ambas: 177\n",
      "- Num países só em \"flags\": 17\n",
      "- Num países só em \"countries\": 50\n",
      "------------------------------\n",
      "países só em flags:\n",
      "9               Argentine\n",
      "56     Falklands-Malvinas\n",
      "65            Germany-FRG\n",
      "88            Ivory-Coast\n",
      "92              Kampuchea\n",
      "103              Malagasy\n",
      "109              Marianas\n",
      "127                  Niue\n",
      "135               Parguay\n",
      "155           South-Yemen\n",
      "163               Surinam\n",
      "182       US-Virgin-Isles\n",
      "184                  USSR\n",
      "186          Vatican-City\n",
      "189         Western-Samoa\n",
      "190            Yugoslavia\n",
      "191                 Zaire\n",
      "Name: name, dtype: object\n",
      "------------------------------\n",
      "países só em countries:\n",
      "9                  Armenia\n",
      "10                   Aruba\n",
      "13              Azerbaijan\n",
      "18                 Belarus\n",
      "25      Bosnia-Herzegovina\n",
      "34                Cambodia\n",
      "46     Congo-Repub. of the\n",
      "49           Cote d'Ivoire\n",
      "50                 Croatia\n",
      "58              East Timor\n",
      "63                 Eritrea\n",
      "64                 Estonia\n",
      "74              Gaza Strip\n",
      "75                 Georgia\n",
      "82              Guadeloupe\n",
      "85                Guernsey\n",
      "99             Isle of Man\n",
      "104                 Jersey\n",
      "106             Kazakhstan\n",
      "110             Kyrgyzstan\n",
      "112                 Latvia\n",
      "118              Lithuania\n",
      "120                  Macau\n",
      "121              Macedonia\n",
      "122             Madagascar\n",
      "128       Marshall Islands\n",
      "129             Martinique\n",
      "132                Mayotte\n",
      "135                Moldova\n",
      "141     N. Mariana Islands\n",
      "142                Namibia\n",
      "147          New Caledonia\n",
      "157                  Palau\n",
      "160               Paraguay\n",
      "167                Reunion\n",
      "169                 Russia\n",
      "171                  Samoa\n",
      "176                 Serbia\n",
      "180               Slovakia\n",
      "181               Slovenia\n",
      "188     St Pierre-Miquelon\n",
      "194               Suriname\n",
      "200             Tajikistan\n",
      "208           Turkmenistan\n",
      "214                Ukraine\n",
      "217             Uzbekistan\n",
      "221         Virgin Islands\n",
      "222      Wallis and Futuna\n",
      "223              West Bank\n",
      "224         Western Sahara\n",
      "Name: country, dtype: object\n"
     ]
    }
   ],
   "source": [
    "print('- Num países em \"flags\":', num_linhas_flags)\n",
    "print('- Num países em \"countries\":', num_linhas_countries)\n",
    "print('- Num países em ambas:', num_linhas_ambas)\n",
    "print('- Num países só em \"flags\":', num_linhas_so_flags)\n",
    "print('- Num países só em \"countries\":', num_linhas_so_countries)\n",
    "print('------------------------------')\n",
    "print(\"países só em flags:\")\n",
    "print(so_flags['name'])\n",
    "print('------------------------------')\n",
    "print(\"países só em countries:\")\n",
    "print(so_countries['country'])"
   ]
  },
  {
   "cell_type": "markdown",
   "id": "6c75b7a4-e39d-42a8-a311-8d8e31a0ee2f",
   "metadata": {},
   "source": [
    "#### Grupo 1 — categóricos binários: red , green , blue , gold , white , black , orange , crescent , triangle , icon , animate , text ;\n",
    "\n",
    "#### Grupo 2 — categóricos não binários: name , landmass , zone , language , religion , mainhue , topleft , botright ;\n",
    "\n",
    "#### Grupo 3 — numéricos contínuos: area , population ;\n",
    "\n",
    "#### Grupo 4 — numéricos discretos: bars , stripes , colours , circles , crosses , saltires , quarters , sunstars ;"
   ]
  },
  {
   "cell_type": "markdown",
   "id": "06737319-0090-4b15-b084-8aa5eabf979a",
   "metadata": {},
   "source": [
    "### Conversão dos atributos do Grupo 2 - De: Categóricos não binários Para: Categóricos binários"
   ]
  },
  {
   "cell_type": "code",
   "execution_count": 15,
   "id": "643d6a69-486b-4805-a00e-d630b1049136",
   "metadata": {},
   "outputs": [],
   "source": [
    "for c in flags.columns:\n",
    "    if c in ['landmass', 'zone', 'language', 'religion', 'mainhue', 'topleft', 'botright']:\n",
    "        dummies = pd.get_dummies(flags[c], prefix=c)\n",
    "        flags = flags.join(dummies)"
   ]
  },
  {
   "cell_type": "markdown",
   "id": "71905ed2-0f9c-4d84-a2c0-b602db6dafd1",
   "metadata": {},
   "source": [
    "### Normalização dos atributos dos Grupo 3 e 4 - De: Numéricos contínuos e discretos Para: Numéricos com valores na faixa entre 0 e 1"
   ]
  },
  {
   "cell_type": "code",
   "execution_count": 16,
   "id": "0e9ab61c-80e3-4587-9b97-1a29eb9ef961",
   "metadata": {},
   "outputs": [],
   "source": [
    "for c in flags.columns:\n",
    "    if c in ['area', 'population', 'bars', 'stripes', 'colours', 'circles', 'crosses', 'saltires', 'quarters', 'sunstars']:\n",
    "        c_max = max(flags[c])\n",
    "        c_min = min(flags[c])\n",
    "        flags[c] = (flags[c] - c_min) / (c_max - c_min)"
   ]
  },
  {
   "cell_type": "markdown",
   "id": "cdda6f8e-06b7-4183-9596-7734b6fcdd66",
   "metadata": {},
   "source": [
    "### Exclusão dos atributos indesejados"
   ]
  },
  {
   "cell_type": "code",
   "execution_count": 17,
   "id": "8451ae09-485c-4cb8-bdd8-a16955ae51b2",
   "metadata": {},
   "outputs": [],
   "source": [
    "flags = flags.drop(columns=['name', 'landmass',\n",
    " 'zone', 'language',\n",
    " 'religion', 'mainhue',\n",
    " 'topleft', 'botright',\n",
    " ])"
   ]
  },
  {
   "cell_type": "markdown",
   "id": "a389a2bd-cad9-4b57-99e4-1da8bab2d75b",
   "metadata": {},
   "source": [
    "### Imprime a configuração final de flags"
   ]
  },
  {
   "cell_type": "code",
   "execution_count": 18,
   "id": "66291e9a-c8f1-4b9d-8b37-11245a1c4a46",
   "metadata": {},
   "outputs": [
    {
     "name": "stdout",
     "output_type": "stream",
     "text": [
      "head():\n",
      "       area  population  bars   stripes   colours  red  green  blue  gold  \\\n",
      "0  0.028926    0.015873   0.0  0.214286  0.571429    1      1     0     1   \n",
      "1  0.001295    0.002976   0.0  0.000000  0.285714    1      0     0     1   \n",
      "2  0.106598    0.019841   0.4  0.000000  0.285714    1      1     0     0   \n",
      "3  0.000000    0.000000   0.0  0.000000  0.571429    1      0     1     1   \n",
      "4  0.000000    0.000000   0.6  0.000000  0.285714    1      0     1     1   \n",
      "\n",
      "   white  ...  topleft_red  topleft_white  botright_black  botright_blue  \\\n",
      "0      1  ...        False          False           False          False   \n",
      "1      0  ...         True          False           False          False   \n",
      "2      1  ...        False          False           False          False   \n",
      "3      1  ...        False          False           False          False   \n",
      "4      0  ...        False          False           False          False   \n",
      "\n",
      "   botright_brown  botright_gold  botright_green  botright_orange  \\\n",
      "0           False          False            True            False   \n",
      "1           False          False           False            False   \n",
      "2           False          False           False            False   \n",
      "3           False          False           False            False   \n",
      "4           False          False           False            False   \n",
      "\n",
      "   botright_red  botright_white  \n",
      "0         False           False  \n",
      "1          True           False  \n",
      "2         False            True  \n",
      "3          True           False  \n",
      "4          True           False  \n",
      "\n",
      "[5 rows x 73 columns]\n",
      "-----------------------------------------------\n",
      "tail():\n",
      "         area  population  bars   stripes   colours  red  green  blue  gold  \\\n",
      "189  0.000134    0.000000   0.0  0.000000  0.285714    1      0     1     0   \n",
      "190  0.011428    0.021825   0.0  0.214286  0.428571    1      0     1     1   \n",
      "191  0.040398    0.027778   0.0  0.000000  0.428571    1      1     0     1   \n",
      "192  0.033613    0.005952   0.6  0.000000  0.428571    1      1     0     0   \n",
      "193  0.017454    0.007937   0.0  0.500000  0.571429    1      1     0     1   \n",
      "\n",
      "     white  ...  topleft_red  topleft_white  botright_black  botright_blue  \\\n",
      "189      1  ...        False          False           False          False   \n",
      "190      1  ...        False          False           False          False   \n",
      "191      0  ...        False          False           False          False   \n",
      "192      0  ...        False          False           False          False   \n",
      "193      1  ...        False          False           False          False   \n",
      "\n",
      "     botright_brown  botright_gold  botright_green  botright_orange  \\\n",
      "189           False          False           False            False   \n",
      "190           False          False           False            False   \n",
      "191           False          False            True            False   \n",
      "192            True          False           False            False   \n",
      "193           False          False            True            False   \n",
      "\n",
      "     botright_red  botright_white  \n",
      "189          True           False  \n",
      "190          True           False  \n",
      "191         False           False  \n",
      "192         False           False  \n",
      "193         False           False  \n",
      "\n",
      "[5 rows x 73 columns]\n",
      "-----------------------------------------------\n"
     ]
    }
   ],
   "source": [
    "print('head():')\n",
    "print(flags.head())\n",
    "print('-----------------------------------------------')\n",
    "#imprime as últimas linhas\n",
    "print('tail():')\n",
    "print(flags.tail())\n",
    "print('-----------------------------------------------')"
   ]
  },
  {
   "cell_type": "markdown",
   "id": "da61c0cf-0dad-41a7-9428-ed3bf6ee40b2",
   "metadata": {},
   "source": [
    "### Salva o dataset alterado para um arquivo"
   ]
  },
  {
   "cell_type": "code",
   "execution_count": 19,
   "id": "0b8c09a4-9370-44c4-a312-f331801bfe8d",
   "metadata": {},
   "outputs": [],
   "source": [
    "flags.to_csv(\"data/flags_transf.csv\", sep=\",\", index=False)"
   ]
  },
  {
   "cell_type": "markdown",
   "id": "908704db-4b00-4dfd-992e-7ae4ff001687",
   "metadata": {},
   "source": [
    "### Carrega a base de dados de treinamento para um DataFrame"
   ]
  },
  {
   "cell_type": "code",
   "execution_count": 22,
   "id": "d0c028bb-a055-4dbf-b336-f0cf81f167b6",
   "metadata": {},
   "outputs": [],
   "source": [
    "flags = pd.read_csv('data/flags_transf.csv')"
   ]
  },
  {
   "cell_type": "markdown",
   "id": "5ba95018-6bb3-4b2c-9e25-e4a09d3202c0",
   "metadata": {},
   "source": [
    "### Configura os parâmetros e variáveis auxiliares "
   ]
  },
  {
   "cell_type": "code",
   "execution_count": 23,
   "id": "5134cb02-5230-4225-9928-09cf85a78db3",
   "metadata": {},
   "outputs": [],
   "source": [
    "#valor de k a ser usado no k-nn\n",
    "k = 3\n",
    "\n",
    "#nomes dos labels (rótulos de classe)\n",
    "labels = ['red', 'green', 'blue', 'gold', 'white', 'black', 'orange']\n",
    "\n",
    "#número de labels (=7)\n",
    "q = len(labels)\n",
    "\n",
    "#número de registros da base de treinamento (=194)\n",
    "N = flags.shape[0]"
   ]
  },
  {
   "cell_type": "markdown",
   "id": "cd7c3efc-732f-45d4-baf4-7fb32e464a74",
   "metadata": {},
   "source": [
    "### Cria um classificador com o algoritmo k-NN e faz a estimativa do desempenho preditivo com o método LOO (Leave-One-Out)"
   ]
  },
  {
   "cell_type": "code",
   "execution_count": 26,
   "id": "1d4cd18d-79fc-4f3a-9a23-4a5a87f94b9e",
   "metadata": {},
   "outputs": [
    {
     "name": "stdout",
     "output_type": "stream",
     "text": [
      "------------------------------------------------\n",
      "PROCESSANDO O RÓTULO  red\n",
      "          predito_nao  predito_sim\n",
      "real_nao           20           21\n",
      "real_sim           22          131\n",
      "acurácia =  0.78\n",
      "------------------------------------------------\n",
      "PROCESSANDO O RÓTULO  green\n",
      "          predito_nao  predito_sim\n",
      "real_nao           88           15\n",
      "real_sim           17           74\n",
      "acurácia =  0.84\n",
      "------------------------------------------------\n",
      "PROCESSANDO O RÓTULO  blue\n",
      "          predito_nao  predito_sim\n",
      "real_nao           64           31\n",
      "real_sim           28           71\n",
      "acurácia =  0.7\n",
      "------------------------------------------------\n",
      "PROCESSANDO O RÓTULO  gold\n",
      "          predito_nao  predito_sim\n",
      "real_nao           81           22\n",
      "real_sim           37           54\n",
      "acurácia =  0.7\n",
      "------------------------------------------------\n",
      "PROCESSANDO O RÓTULO  white\n",
      "          predito_nao  predito_sim\n",
      "real_nao           18           30\n",
      "real_sim           24          122\n",
      "acurácia =  0.72\n",
      "------------------------------------------------\n",
      "PROCESSANDO O RÓTULO  black\n",
      "          predito_nao  predito_sim\n",
      "real_nao          125           17\n",
      "real_sim           28           24\n",
      "acurácia =  0.77\n",
      "------------------------------------------------\n",
      "PROCESSANDO O RÓTULO  orange\n",
      "          predito_nao  predito_sim\n",
      "real_nao          163            5\n",
      "real_sim           20            6\n",
      "acurácia =  0.87\n"
     ]
    }
   ],
   "source": [
    "#for j: laço que precorre cada rótulo\n",
    "\n",
    "for j in range(0,q):\n",
    "    print('------------------------------------------------')\n",
    "    print(\"PROCESSANDO O RÓTULO \", labels[j])\n",
    "    #---------------------------------------------------------\n",
    "    #instancia uma matriz de confusão para o rótulo j\n",
    "    #---------------------------------------------------------\n",
    "    mc = pd.DataFrame({'predito_nao': [0,0], 'predito_sim':[0,0]}, index = ['real_nao','real_sim'])\n",
    "    #---------------------------------------------------------\n",
    "    #divide a base de treinamento verticalmente em duas partes: X (atributos preditivos) e Y (atributo classe)\n",
    "    #---------------------------------------------------------\n",
    "    X = flags.drop(columns=labels)\n",
    "    Y = flags[labels[j]]\n",
    "    #---------------------------------------------------------\n",
    "    #for i: laço que realiza o LOO para o rótulo j\n",
    "    #---------------------------------------------------------\n",
    "    for i in range(0,N):\n",
    "        #-----------------------------------------------------\n",
    "        #Separa os dados que serão utilizados para treinar o modelo\n",
    "        #-----------------------------------------------------\n",
    "        X_treino = X.drop([i])\n",
    "        Y_treino = Y.drop([i])\n",
    "        #-----------------------------------------------------\n",
    "        #Separa o objeto de teste\n",
    "        #-----------------------------------------------------\n",
    "        X_teste = X.iloc[[i],:]\n",
    "        Y_teste = Y.iloc[i]\n",
    "        #-----------------------------------------------------\n",
    "        #Treinamento do modelo k-NN com os dados de treino\n",
    "        #-----------------------------------------------------\n",
    "        modelo=KNeighborsClassifier(n_neighbors=k)\n",
    "        modelo.fit(X_treino,Y_treino)\n",
    "        #-----------------------------------------------------\n",
    "        #Teste do modelo k-NN com o objeto de teste\n",
    "        #-----------------------------------------------------\n",
    "        pred = modelo.predict(X_teste)\n",
    "        #-----------------------------------------------------\n",
    "        #Atualiza a célula adequada da matriz de confusão em função do resultado do teste\n",
    "        #-----------------------------------------------------\n",
    "        if (Y_teste == 0):\n",
    "            if (pred == 0): mc.iloc[0,0]+=1\n",
    "            if (pred == 1): mc.iloc[0,1]+=1\n",
    "        else:\n",
    "            if (pred == 0): mc.iloc[1,0]+=1\n",
    "            if (pred == 1): mc.iloc[1,1]+=1\n",
    "    #---------------------------------------------------------\n",
    "    #Fim do LOO para o rótulo j: imprime a sua matriz de confusão e acurácia\n",
    "    #---------------------------------------------------------\n",
    "    print(mc)\n",
    "    acuracia = (mc.iloc[0,0] + mc.iloc[1,1]) / N\n",
    "    print('acurácia = ',round(acuracia,2))"
   ]
  },
  {
   "cell_type": "code",
   "execution_count": null,
   "id": "db6d4a14-c063-4704-bd0a-a5ee41f094b8",
   "metadata": {},
   "outputs": [],
   "source": []
  },
  {
   "cell_type": "code",
   "execution_count": null,
   "id": "802b119f-b8e3-4596-9bf4-b05f6d3cd4e9",
   "metadata": {},
   "outputs": [],
   "source": []
  },
  {
   "cell_type": "code",
   "execution_count": null,
   "id": "978cdced-94e0-4eb5-99e8-4e5f7a3334d0",
   "metadata": {},
   "outputs": [],
   "source": []
  },
  {
   "cell_type": "code",
   "execution_count": null,
   "id": "0e9f663f-6ffe-46f1-b81f-bb92f37a05e3",
   "metadata": {},
   "outputs": [],
   "source": []
  }
 ],
 "metadata": {
  "kernelspec": {
   "display_name": "Python 3 (ipykernel)",
   "language": "python",
   "name": "python3"
  },
  "language_info": {
   "codemirror_mode": {
    "name": "ipython",
    "version": 3
   },
   "file_extension": ".py",
   "mimetype": "text/x-python",
   "name": "python",
   "nbconvert_exporter": "python",
   "pygments_lexer": "ipython3",
   "version": "3.13.1"
  }
 },
 "nbformat": 4,
 "nbformat_minor": 5
}
